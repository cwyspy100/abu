{
 "cells": [
  {
   "cell_type": "code",
   "execution_count": 3,
   "metadata": {
    "collapsed": true
   },
   "outputs": [],
   "source": [
    "from __future__ import print_function\n",
    "from __future__ import division\n",
    "\n",
    "import warnings\n",
    "warnings.filterwarnings('ignore')\n",
    "warnings.simplefilter('ignore')\n",
    "    \n",
    "import numpy as np\n",
    "import pandas as pd\n",
    "import matplotlib.pyplot as plt\n",
    "%matplotlib inline\n",
    "import os\n",
    "import sys\n",
    "# 使用insert 0即只使用github，避免交叉使用了pip安装的abupy，导致的版本不一致问题\n",
    "sys.path.insert(0, os.path.abspath('../'))\n",
    "import abupy"
   ]
  },
  {
   "cell_type": "code",
   "execution_count": 6,
   "metadata": {},
   "outputs": [
    {
     "name": "stderr",
     "output_type": "stream",
     "text": [
      "enable example env will only read RomDataBu/csv\n"
     ]
    },
    {
     "data": {
      "text/plain": [
       "'/Users/water/PycharmProjects/abu-master'"
      ]
     },
     "execution_count": 6,
     "metadata": {},
     "output_type": "execute_result"
    }
   ],
   "source": [
    "abupy.env.enable_example_env_ipython()\n",
    "os.path.abspath('../')"
   ]
  },
  {
   "cell_type": "markdown",
   "metadata": {},
   "source": [
    "abupy.env.enable_example_env_ipython()的目的是使用abupy中内置的测试金融时间序列数据，即不从网络获取数据， 只从本地获取数据，优点是所有人在任何时间运行代码的结果都是一致的，因为数据是一致，在编写使用文档的使用，为了所有人在所有时间点可以运行出一致的结果，本教程中大多数示例都使用abupy中内置的测试金融时间序列数据\n",
    "\n",
    "abupy中内置的k线数据有\n",
    "\n",
    "\n"
   ]
  },
  {
   "cell_type": "code",
   "execution_count": 8,
   "metadata": {},
   "outputs": [
    {
     "data": {
      "text/plain": [
       "True"
      ]
     },
     "execution_count": 8,
     "metadata": {},
     "output_type": "execute_result"
    }
   ],
   "source": [
    "from abupy import ABuSymbolPd\n",
    "ABuSymbolPd.make_kl_df('usJD') is None"
   ]
  },
  {
   "cell_type": "code",
   "execution_count": 10,
   "metadata": {},
   "outputs": [
    {
     "name": "stderr",
     "output_type": "stream",
     "text": [
      "disable example env\n",
      "HTTPConnectionPool(host='gp.baidu.com', port=80): Max retries exceeded with url: /stocks/stockkline?from=android&os_ver=21&format=json&vv=3.3.0&uid=&BDUSS=&cuid=6u5941a37weyelgjo9rt1a5v0hdb8pdyilb6atw5&channel=default_channel&device=OPPOR9&logid=1651833824&actionid=1651833758&device_net_type=wifi&period=day&stock_code=usJD&fq_type=front (Caused by NewConnectionError('<requests.packages.urllib3.connection.HTTPConnection object at 0x7f83972c9400>: Failed to establish a new connection: [Errno 8] nodename nor servname provided, or not known',))\n",
      "Traceback (most recent call last):\n",
      "  File \"/Users/water/anaconda3/lib/python3.6/site-packages/requests/packages/urllib3/connection.py\", line 141, in _new_conn\n",
      "    (self.host, self.port), self.timeout, **extra_kw)\n",
      "  File \"/Users/water/anaconda3/lib/python3.6/site-packages/requests/packages/urllib3/util/connection.py\", line 60, in create_connection\n",
      "    for res in socket.getaddrinfo(host, port, family, socket.SOCK_STREAM):\n",
      "  File \"/Users/water/anaconda3/lib/python3.6/socket.py\", line 743, in getaddrinfo\n",
      "    for res in _socket.getaddrinfo(host, port, family, type, proto, flags):\n",
      "socket.gaierror: [Errno 8] nodename nor servname provided, or not known\n",
      "\n",
      "During handling of the above exception, another exception occurred:\n",
      "\n",
      "Traceback (most recent call last):\n",
      "  File \"/Users/water/anaconda3/lib/python3.6/site-packages/requests/packages/urllib3/connectionpool.py\", line 600, in urlopen\n",
      "    chunked=chunked)\n",
      "  File \"/Users/water/anaconda3/lib/python3.6/site-packages/requests/packages/urllib3/connectionpool.py\", line 356, in _make_request\n",
      "    conn.request(method, url, **httplib_request_kw)\n",
      "  File \"/Users/water/anaconda3/lib/python3.6/http/client.py\", line 1239, in request\n",
      "    self._send_request(method, url, body, headers, encode_chunked)\n",
      "  File \"/Users/water/anaconda3/lib/python3.6/http/client.py\", line 1285, in _send_request\n",
      "    self.endheaders(body, encode_chunked=encode_chunked)\n",
      "  File \"/Users/water/anaconda3/lib/python3.6/http/client.py\", line 1234, in endheaders\n",
      "    self._send_output(message_body, encode_chunked=encode_chunked)\n",
      "  File \"/Users/water/anaconda3/lib/python3.6/http/client.py\", line 1026, in _send_output\n",
      "    self.send(msg)\n",
      "  File \"/Users/water/anaconda3/lib/python3.6/http/client.py\", line 964, in send\n",
      "    self.connect()\n",
      "  File \"/Users/water/anaconda3/lib/python3.6/site-packages/requests/packages/urllib3/connection.py\", line 166, in connect\n",
      "    conn = self._new_conn()\n",
      "  File \"/Users/water/anaconda3/lib/python3.6/site-packages/requests/packages/urllib3/connection.py\", line 150, in _new_conn\n",
      "    self, \"Failed to establish a new connection: %s\" % e)\n",
      "requests.packages.urllib3.exceptions.NewConnectionError: <requests.packages.urllib3.connection.HTTPConnection object at 0x7f83972c9400>: Failed to establish a new connection: [Errno 8] nodename nor servname provided, or not known\n",
      "\n",
      "During handling of the above exception, another exception occurred:\n",
      "\n",
      "Traceback (most recent call last):\n",
      "  File \"/Users/water/anaconda3/lib/python3.6/site-packages/requests/adapters.py\", line 438, in send\n",
      "    timeout=timeout\n",
      "  File \"/Users/water/anaconda3/lib/python3.6/site-packages/requests/packages/urllib3/connectionpool.py\", line 649, in urlopen\n",
      "    _stacktrace=sys.exc_info()[2])\n",
      "  File \"/Users/water/anaconda3/lib/python3.6/site-packages/requests/packages/urllib3/util/retry.py\", line 388, in increment\n",
      "    raise MaxRetryError(_pool, url, error or ResponseError(cause))\n",
      "requests.packages.urllib3.exceptions.MaxRetryError: HTTPConnectionPool(host='gp.baidu.com', port=80): Max retries exceeded with url: /stocks/stockkline?from=android&os_ver=21&format=json&vv=3.3.0&uid=&BDUSS=&cuid=6u5941a37weyelgjo9rt1a5v0hdb8pdyilb6atw5&channel=default_channel&device=OPPOR9&logid=1651833824&actionid=1651833758&device_net_type=wifi&period=day&stock_code=usJD&fq_type=front (Caused by NewConnectionError('<requests.packages.urllib3.connection.HTTPConnection object at 0x7f83972c9400>: Failed to establish a new connection: [Errno 8] nodename nor servname provided, or not known',))\n",
      "\n",
      "During handling of the above exception, another exception occurred:\n",
      "\n",
      "Traceback (most recent call last):\n",
      "  File \"/Users/water/PycharmProjects/abu-master/abupy/MarketBu/ABuNetWork.py\", line 43, in get\n",
      "    resp = requests.get(url=url, params=params, headers=headers, **kwargs)\n",
      "  File \"/Users/water/anaconda3/lib/python3.6/site-packages/requests/api.py\", line 72, in get\n",
      "    return request('get', url, params=params, **kwargs)\n",
      "  File \"/Users/water/anaconda3/lib/python3.6/site-packages/requests/api.py\", line 58, in request\n",
      "    return session.request(method=method, url=url, **kwargs)\n",
      "  File \"/Users/water/anaconda3/lib/python3.6/site-packages/requests/sessions.py\", line 518, in request\n",
      "    resp = self.send(prep, **send_kwargs)\n",
      "  File \"/Users/water/anaconda3/lib/python3.6/site-packages/requests/sessions.py\", line 639, in send\n",
      "    r = adapter.send(request, **kwargs)\n",
      "  File \"/Users/water/anaconda3/lib/python3.6/site-packages/requests/adapters.py\", line 502, in send\n",
      "    raise ConnectionError(e, request=request)\n",
      "requests.exceptions.ConnectionError: HTTPConnectionPool(host='gp.baidu.com', port=80): Max retries exceeded with url: /stocks/stockkline?from=android&os_ver=21&format=json&vv=3.3.0&uid=&BDUSS=&cuid=6u5941a37weyelgjo9rt1a5v0hdb8pdyilb6atw5&channel=default_channel&device=OPPOR9&logid=1651833824&actionid=1651833758&device_net_type=wifi&period=day&stock_code=usJD&fq_type=front (Caused by NewConnectionError('<requests.packages.urllib3.connection.HTTPConnection object at 0x7f83972c9400>: Failed to establish a new connection: [Errno 8] nodename nor servname provided, or not known',))\n",
      "HTTPConnectionPool(host='gp.baidu.com', port=80): Max retries exceeded with url: /stocks/stockkline?from=android&os_ver=21&format=json&vv=3.3.0&uid=&BDUSS=&cuid=6u5941a37weyelgjo9rt1a5v0hdb8pdyilb6atw5&channel=default_channel&device=OPPOR9&logid=1651833824&actionid=1651833758&device_net_type=wifi&period=day&stock_code=usJD&fq_type=front (Caused by NewConnectionError('<requests.packages.urllib3.connection.HTTPConnection object at 0x7f83972c9470>: Failed to establish a new connection: [Errno 8] nodename nor servname provided, or not known',))\n",
      "Traceback (most recent call last):\n",
      "  File \"/Users/water/anaconda3/lib/python3.6/site-packages/requests/packages/urllib3/connection.py\", line 141, in _new_conn\n",
      "    (self.host, self.port), self.timeout, **extra_kw)\n",
      "  File \"/Users/water/anaconda3/lib/python3.6/site-packages/requests/packages/urllib3/util/connection.py\", line 60, in create_connection\n",
      "    for res in socket.getaddrinfo(host, port, family, socket.SOCK_STREAM):\n",
      "  File \"/Users/water/anaconda3/lib/python3.6/socket.py\", line 743, in getaddrinfo\n",
      "    for res in _socket.getaddrinfo(host, port, family, type, proto, flags):\n",
      "socket.gaierror: [Errno 8] nodename nor servname provided, or not known\n",
      "\n",
      "During handling of the above exception, another exception occurred:\n",
      "\n",
      "Traceback (most recent call last):\n",
      "  File \"/Users/water/anaconda3/lib/python3.6/site-packages/requests/packages/urllib3/connectionpool.py\", line 600, in urlopen\n",
      "    chunked=chunked)\n",
      "  File \"/Users/water/anaconda3/lib/python3.6/site-packages/requests/packages/urllib3/connectionpool.py\", line 356, in _make_request\n",
      "    conn.request(method, url, **httplib_request_kw)\n",
      "  File \"/Users/water/anaconda3/lib/python3.6/http/client.py\", line 1239, in request\n",
      "    self._send_request(method, url, body, headers, encode_chunked)\n",
      "  File \"/Users/water/anaconda3/lib/python3.6/http/client.py\", line 1285, in _send_request\n",
      "    self.endheaders(body, encode_chunked=encode_chunked)\n",
      "  File \"/Users/water/anaconda3/lib/python3.6/http/client.py\", line 1234, in endheaders\n",
      "    self._send_output(message_body, encode_chunked=encode_chunked)\n",
      "  File \"/Users/water/anaconda3/lib/python3.6/http/client.py\", line 1026, in _send_output\n",
      "    self.send(msg)\n",
      "  File \"/Users/water/anaconda3/lib/python3.6/http/client.py\", line 964, in send\n",
      "    self.connect()\n",
      "  File \"/Users/water/anaconda3/lib/python3.6/site-packages/requests/packages/urllib3/connection.py\", line 166, in connect\n",
      "    conn = self._new_conn()\n",
      "  File \"/Users/water/anaconda3/lib/python3.6/site-packages/requests/packages/urllib3/connection.py\", line 150, in _new_conn\n",
      "    self, \"Failed to establish a new connection: %s\" % e)\n",
      "requests.packages.urllib3.exceptions.NewConnectionError: <requests.packages.urllib3.connection.HTTPConnection object at 0x7f83972c9470>: Failed to establish a new connection: [Errno 8] nodename nor servname provided, or not known\n",
      "\n",
      "During handling of the above exception, another exception occurred:\n",
      "\n",
      "Traceback (most recent call last):\n",
      "  File \"/Users/water/anaconda3/lib/python3.6/site-packages/requests/adapters.py\", line 438, in send\n",
      "    timeout=timeout\n",
      "  File \"/Users/water/anaconda3/lib/python3.6/site-packages/requests/packages/urllib3/connectionpool.py\", line 649, in urlopen\n",
      "    _stacktrace=sys.exc_info()[2])\n",
      "  File \"/Users/water/anaconda3/lib/python3.6/site-packages/requests/packages/urllib3/util/retry.py\", line 388, in increment\n",
      "    raise MaxRetryError(_pool, url, error or ResponseError(cause))\n",
      "requests.packages.urllib3.exceptions.MaxRetryError: HTTPConnectionPool(host='gp.baidu.com', port=80): Max retries exceeded with url: /stocks/stockkline?from=android&os_ver=21&format=json&vv=3.3.0&uid=&BDUSS=&cuid=6u5941a37weyelgjo9rt1a5v0hdb8pdyilb6atw5&channel=default_channel&device=OPPOR9&logid=1651833824&actionid=1651833758&device_net_type=wifi&period=day&stock_code=usJD&fq_type=front (Caused by NewConnectionError('<requests.packages.urllib3.connection.HTTPConnection object at 0x7f83972c9470>: Failed to establish a new connection: [Errno 8] nodename nor servname provided, or not known',))\n",
      "\n",
      "During handling of the above exception, another exception occurred:\n",
      "\n",
      "Traceback (most recent call last):\n",
      "  File \"/Users/water/PycharmProjects/abu-master/abupy/MarketBu/ABuNetWork.py\", line 43, in get\n",
      "    resp = requests.get(url=url, params=params, headers=headers, **kwargs)\n",
      "  File \"/Users/water/anaconda3/lib/python3.6/site-packages/requests/api.py\", line 72, in get\n",
      "    return request('get', url, params=params, **kwargs)\n",
      "  File \"/Users/water/anaconda3/lib/python3.6/site-packages/requests/api.py\", line 58, in request\n",
      "    return session.request(method=method, url=url, **kwargs)\n",
      "  File \"/Users/water/anaconda3/lib/python3.6/site-packages/requests/sessions.py\", line 518, in request\n",
      "    resp = self.send(prep, **send_kwargs)\n",
      "  File \"/Users/water/anaconda3/lib/python3.6/site-packages/requests/sessions.py\", line 639, in send\n",
      "    r = adapter.send(request, **kwargs)\n",
      "  File \"/Users/water/anaconda3/lib/python3.6/site-packages/requests/adapters.py\", line 502, in send\n",
      "    raise ConnectionError(e, request=request)\n",
      "requests.exceptions.ConnectionError: HTTPConnectionPool(host='gp.baidu.com', port=80): Max retries exceeded with url: /stocks/stockkline?from=android&os_ver=21&format=json&vv=3.3.0&uid=&BDUSS=&cuid=6u5941a37weyelgjo9rt1a5v0hdb8pdyilb6atw5&channel=default_channel&device=OPPOR9&logid=1651833824&actionid=1651833758&device_net_type=wifi&period=day&stock_code=usJD&fq_type=front (Caused by NewConnectionError('<requests.packages.urllib3.connection.HTTPConnection object at 0x7f83972c9470>: Failed to establish a new connection: [Errno 8] nodename nor servname provided, or not known',))\n"
     ]
    },
    {
     "name": "stderr",
     "output_type": "stream",
     "text": [
      "HTTPConnectionPool(host='gp.baidu.com', port=80): Max retries exceeded with url: /stocks/stockkline?from=android&os_ver=21&format=json&vv=3.3.0&uid=&BDUSS=&cuid=6u5941a37weyelgjo9rt1a5v0hdb8pdyilb6atw5&channel=default_channel&device=OPPOR9&logid=1651833824&actionid=1651833758&device_net_type=wifi&period=day&stock_code=usJD&fq_type=front (Caused by NewConnectionError('<requests.packages.urllib3.connection.HTTPConnection object at 0x7f83972c95f8>: Failed to establish a new connection: [Errno 8] nodename nor servname provided, or not known',))\n",
      "Traceback (most recent call last):\n",
      "  File \"/Users/water/anaconda3/lib/python3.6/site-packages/requests/packages/urllib3/connection.py\", line 141, in _new_conn\n",
      "    (self.host, self.port), self.timeout, **extra_kw)\n",
      "  File \"/Users/water/anaconda3/lib/python3.6/site-packages/requests/packages/urllib3/util/connection.py\", line 60, in create_connection\n",
      "    for res in socket.getaddrinfo(host, port, family, socket.SOCK_STREAM):\n",
      "  File \"/Users/water/anaconda3/lib/python3.6/socket.py\", line 743, in getaddrinfo\n",
      "    for res in _socket.getaddrinfo(host, port, family, type, proto, flags):\n",
      "socket.gaierror: [Errno 8] nodename nor servname provided, or not known\n",
      "\n",
      "During handling of the above exception, another exception occurred:\n",
      "\n",
      "Traceback (most recent call last):\n",
      "  File \"/Users/water/anaconda3/lib/python3.6/site-packages/requests/packages/urllib3/connectionpool.py\", line 600, in urlopen\n",
      "    chunked=chunked)\n",
      "  File \"/Users/water/anaconda3/lib/python3.6/site-packages/requests/packages/urllib3/connectionpool.py\", line 356, in _make_request\n",
      "    conn.request(method, url, **httplib_request_kw)\n",
      "  File \"/Users/water/anaconda3/lib/python3.6/http/client.py\", line 1239, in request\n",
      "    self._send_request(method, url, body, headers, encode_chunked)\n",
      "  File \"/Users/water/anaconda3/lib/python3.6/http/client.py\", line 1285, in _send_request\n",
      "    self.endheaders(body, encode_chunked=encode_chunked)\n",
      "  File \"/Users/water/anaconda3/lib/python3.6/http/client.py\", line 1234, in endheaders\n",
      "    self._send_output(message_body, encode_chunked=encode_chunked)\n",
      "  File \"/Users/water/anaconda3/lib/python3.6/http/client.py\", line 1026, in _send_output\n",
      "    self.send(msg)\n",
      "  File \"/Users/water/anaconda3/lib/python3.6/http/client.py\", line 964, in send\n",
      "    self.connect()\n",
      "  File \"/Users/water/anaconda3/lib/python3.6/site-packages/requests/packages/urllib3/connection.py\", line 166, in connect\n",
      "    conn = self._new_conn()\n",
      "  File \"/Users/water/anaconda3/lib/python3.6/site-packages/requests/packages/urllib3/connection.py\", line 150, in _new_conn\n",
      "    self, \"Failed to establish a new connection: %s\" % e)\n",
      "requests.packages.urllib3.exceptions.NewConnectionError: <requests.packages.urllib3.connection.HTTPConnection object at 0x7f83972c95f8>: Failed to establish a new connection: [Errno 8] nodename nor servname provided, or not known\n",
      "\n",
      "During handling of the above exception, another exception occurred:\n",
      "\n",
      "Traceback (most recent call last):\n",
      "  File \"/Users/water/anaconda3/lib/python3.6/site-packages/requests/adapters.py\", line 438, in send\n",
      "    timeout=timeout\n",
      "  File \"/Users/water/anaconda3/lib/python3.6/site-packages/requests/packages/urllib3/connectionpool.py\", line 649, in urlopen\n",
      "    _stacktrace=sys.exc_info()[2])\n",
      "  File \"/Users/water/anaconda3/lib/python3.6/site-packages/requests/packages/urllib3/util/retry.py\", line 388, in increment\n",
      "    raise MaxRetryError(_pool, url, error or ResponseError(cause))\n",
      "requests.packages.urllib3.exceptions.MaxRetryError: HTTPConnectionPool(host='gp.baidu.com', port=80): Max retries exceeded with url: /stocks/stockkline?from=android&os_ver=21&format=json&vv=3.3.0&uid=&BDUSS=&cuid=6u5941a37weyelgjo9rt1a5v0hdb8pdyilb6atw5&channel=default_channel&device=OPPOR9&logid=1651833824&actionid=1651833758&device_net_type=wifi&period=day&stock_code=usJD&fq_type=front (Caused by NewConnectionError('<requests.packages.urllib3.connection.HTTPConnection object at 0x7f83972c95f8>: Failed to establish a new connection: [Errno 8] nodename nor servname provided, or not known',))\n",
      "\n",
      "During handling of the above exception, another exception occurred:\n",
      "\n",
      "Traceback (most recent call last):\n",
      "  File \"/Users/water/PycharmProjects/abu-master/abupy/MarketBu/ABuNetWork.py\", line 43, in get\n",
      "    resp = requests.get(url=url, params=params, headers=headers, **kwargs)\n",
      "  File \"/Users/water/anaconda3/lib/python3.6/site-packages/requests/api.py\", line 72, in get\n",
      "    return request('get', url, params=params, **kwargs)\n",
      "  File \"/Users/water/anaconda3/lib/python3.6/site-packages/requests/api.py\", line 58, in request\n",
      "    return session.request(method=method, url=url, **kwargs)\n",
      "  File \"/Users/water/anaconda3/lib/python3.6/site-packages/requests/sessions.py\", line 518, in request\n",
      "    resp = self.send(prep, **send_kwargs)\n",
      "  File \"/Users/water/anaconda3/lib/python3.6/site-packages/requests/sessions.py\", line 639, in send\n",
      "    r = adapter.send(request, **kwargs)\n",
      "  File \"/Users/water/anaconda3/lib/python3.6/site-packages/requests/adapters.py\", line 502, in send\n",
      "    raise ConnectionError(e, request=request)\n",
      "requests.exceptions.ConnectionError: HTTPConnectionPool(host='gp.baidu.com', port=80): Max retries exceeded with url: /stocks/stockkline?from=android&os_ver=21&format=json&vv=3.3.0&uid=&BDUSS=&cuid=6u5941a37weyelgjo9rt1a5v0hdb8pdyilb6atw5&channel=default_channel&device=OPPOR9&logid=1651833824&actionid=1651833758&device_net_type=wifi&period=day&stock_code=usJD&fq_type=front (Caused by NewConnectionError('<requests.packages.urllib3.connection.HTTPConnection object at 0x7f83972c95f8>: Failed to establish a new connection: [Errno 8] nodename nor servname provided, or not known',))\n",
      "enable example env will only read RomDataBu/csv\n"
     ]
    }
   ],
   "source": [
    "abupy.env.disable_example_env_ipython()\n",
    "us_jd = ABuSymbolPd.make_kl_df('usJD')\n",
    "abupy.env.enable_example_env_ipython()\n",
    "tail = None\n",
    "if us_jd is not None:\n",
    "    tail = us_jd.tail()\n",
    "tail"
   ]
  },
  {
   "cell_type": "code",
   "execution_count": null,
   "metadata": {
    "collapsed": true
   },
   "outputs": [],
   "source": []
  }
 ],
 "metadata": {
  "kernelspec": {
   "display_name": "Python 3",
   "language": "python",
   "name": "python3"
  },
  "language_info": {
   "codemirror_mode": {
    "name": "ipython",
    "version": 3
   },
   "file_extension": ".py",
   "mimetype": "text/x-python",
   "name": "python",
   "nbconvert_exporter": "python",
   "pygments_lexer": "ipython3",
   "version": "3.6.1"
  }
 },
 "nbformat": 4,
 "nbformat_minor": 2
}
