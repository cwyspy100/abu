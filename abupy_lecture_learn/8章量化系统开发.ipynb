{
 "cells": [
  {
   "cell_type": "markdown",
   "metadata": {},
   "source": [
    "## 8.1 abu量化系统择时"
   ]
  },
  {
   "cell_type": "markdown",
   "metadata": {},
   "source": [
    "## 8.1.1 买入因子的实现"
   ]
  },
  {
   "cell_type": "code",
   "execution_count": 5,
   "metadata": {},
   "outputs": [
    {
     "name": "stderr",
     "output_type": "stream",
     "text": [
      "enable example env will only read RomDataBu/csv\n"
     ]
    },
    {
     "ename": "TypeError",
     "evalue": "__init__() missing 1 required positional argument: 'sell_factors'",
     "output_type": "error",
     "traceback": [
      "\u001b[0;31m---------------------------------------------------------------------------\u001b[0m",
      "\u001b[0;31mTypeError\u001b[0m                                 Traceback (most recent call last)",
      "\u001b[0;32m<ipython-input-5-2082822394d1>\u001b[0m in \u001b[0;36m<module>\u001b[0;34m()\u001b[0m\n\u001b[1;32m     10\u001b[0m \u001b[0mkl_pd_manger\u001b[0m \u001b[0;34m=\u001b[0m \u001b[0mAbuKLManager\u001b[0m\u001b[0;34m(\u001b[0m\u001b[0mbenchmark\u001b[0m\u001b[0;34m,\u001b[0m \u001b[0mcaptial\u001b[0m\u001b[0;34m)\u001b[0m\u001b[0;34m\u001b[0m\u001b[0m\n\u001b[1;32m     11\u001b[0m \u001b[0mkl_pd\u001b[0m \u001b[0;34m=\u001b[0m \u001b[0mkl_pd_manger\u001b[0m\u001b[0;34m.\u001b[0m\u001b[0mget_pick_time_kl_pd\u001b[0m\u001b[0;34m(\u001b[0m\u001b[0;34m'usTSLA'\u001b[0m\u001b[0;34m)\u001b[0m\u001b[0;34m\u001b[0m\u001b[0m\n\u001b[0;32m---> 12\u001b[0;31m \u001b[0mabu_worker\u001b[0m \u001b[0;34m=\u001b[0m \u001b[0mAbuPickTimeWorker\u001b[0m\u001b[0;34m(\u001b[0m\u001b[0mcaptial\u001b[0m\u001b[0;34m,\u001b[0m \u001b[0mkl_pd\u001b[0m\u001b[0;34m,\u001b[0m \u001b[0mbuy_factors\u001b[0m\u001b[0;34m,\u001b[0m \u001b[0;32mNone\u001b[0m\u001b[0;34m)\u001b[0m\u001b[0;34m\u001b[0m\u001b[0m\n\u001b[0m\u001b[1;32m     13\u001b[0m \u001b[0mget_ipython\u001b[0m\u001b[0;34m(\u001b[0m\u001b[0;34m)\u001b[0m\u001b[0;34m.\u001b[0m\u001b[0mmagic\u001b[0m\u001b[0;34m(\u001b[0m\u001b[0;34m'time abu_worker.fit()'\u001b[0m\u001b[0;34m)\u001b[0m\u001b[0;34m\u001b[0m\u001b[0m\n",
      "\u001b[0;31mTypeError\u001b[0m: __init__() missing 1 required positional argument: 'sell_factors'"
     ]
    }
   ],
   "source": [
    "from abupy import AbuFactorBuyBase,AbuFactorBuyBreak\n",
    "from abupy import AbuBenchmark\n",
    "from abupy import AbuCapital, AbuPickTimeWorker, AbuKLManager\n",
    "import abupy\n",
    "abupy.env.enable_example_env_ipython()\n",
    "\n",
    "buy_factors = [{'xd':60, 'class':AbuFactorBuyBreak},{'xd':42, 'class':AbuFactorBuyBreak}]\n",
    "benchmark = AbuBenchmark()\n",
    "captial = AbuCapital(1000000, benchmark)\n",
    "kl_pd_manger = AbuKLManager(benchmark, captial)\n",
    "kl_pd = kl_pd_manger.get_pick_time_kl_pd('usTSLA')\n",
    "abu_worker = AbuPickTimeWorker(captial, kl_pd, buy_factors, None)\n",
    "%time abu_worker.fit()\n"
   ]
  },
  {
   "cell_type": "code",
   "execution_count": null,
   "metadata": {
    "collapsed": true
   },
   "outputs": [],
   "source": []
  },
  {
   "cell_type": "code",
   "execution_count": null,
   "metadata": {
    "collapsed": true
   },
   "outputs": [],
   "source": []
  },
  {
   "cell_type": "code",
   "execution_count": null,
   "metadata": {
    "collapsed": true
   },
   "outputs": [],
   "source": []
  },
  {
   "cell_type": "code",
   "execution_count": null,
   "metadata": {
    "collapsed": true
   },
   "outputs": [],
   "source": []
  },
  {
   "cell_type": "code",
   "execution_count": null,
   "metadata": {
    "collapsed": true
   },
   "outputs": [],
   "source": []
  }
 ],
 "metadata": {
  "kernelspec": {
   "display_name": "Python 3",
   "language": "python",
   "name": "python3"
  },
  "language_info": {
   "codemirror_mode": {
    "name": "ipython",
    "version": 3
   },
   "file_extension": ".py",
   "mimetype": "text/x-python",
   "name": "python",
   "nbconvert_exporter": "python",
   "pygments_lexer": "ipython3",
   "version": "3.6.1"
  }
 },
 "nbformat": 4,
 "nbformat_minor": 2
}
