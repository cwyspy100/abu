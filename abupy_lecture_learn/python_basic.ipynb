{
 "cells": [
  {
   "cell_type": "code",
   "execution_count": 5,
   "metadata": {},
   "outputs": [
    {
     "data": {
      "text/plain": [
       "['20220501', '20220502', '20220503', '20220504', '20220505']"
      ]
     },
     "execution_count": 5,
     "metadata": {},
     "output_type": "execute_result"
    }
   ],
   "source": [
    "price_array = ['30.14', '29.14', '30.15', '26.23', '29.34']\n",
    "date_array = []\n",
    "date_base = 20220501\n",
    "for _ in range(0, len(price_array)):\n",
    "    date_array.append(str(date_base))\n",
    "    date_base +=1\n",
    "date_array\n",
    "    "
   ]
  },
  {
   "cell_type": "markdown",
   "metadata": {},
   "source": [
    "列表推导式: for ind, _ in enumerate(price_array)"
   ]
  },
  {
   "cell_type": "code",
   "execution_count": 6,
   "metadata": {},
   "outputs": [
    {
     "data": {
      "text/plain": [
       "['20220501', '20220502', '20220503', '20220504', '20220505']"
      ]
     },
     "execution_count": 6,
     "metadata": {},
     "output_type": "execute_result"
    }
   ],
   "source": [
    "date_base = 20220501\n",
    "date_array =[str(date_base+ind) for ind, _ in enumerate(price_array)]\n",
    "date_array"
   ]
  },
  {
   "cell_type": "code",
   "execution_count": 9,
   "metadata": {},
   "outputs": [
    {
     "name": "stdout",
     "output_type": "stream",
     "text": [
      "202205001的价格:20220501\n"
     ]
    },
    {
     "data": {
      "text/plain": [
       "[('20220501', '30.14'),\n",
       " ('20220502', '29.14'),\n",
       " ('20220503', '30.15'),\n",
       " ('20220504', '26.23'),\n",
       " ('20220505', '29.34')]"
      ]
     },
     "execution_count": 9,
     "metadata": {},
     "output_type": "execute_result"
    }
   ],
   "source": [
    "stock_tuple_list = [(date, price) for date, price in zip(date_array, price_array)]\n",
    "print('202205001的价格:{}'.format(stock_tuple_list[0][0]))\n",
    "stock_tuple_list"
   ]
  },
  {
   "cell_type": "markdown",
   "metadata": {},
   "source": [
    "可命名的元组: namedtuple"
   ]
  },
  {
   "cell_type": "code",
   "execution_count": 11,
   "metadata": {},
   "outputs": [
    {
     "data": {
      "text/plain": [
       "[stock(date='20220501', price='30.14'),\n",
       " stock(date='20220502', price='29.14'),\n",
       " stock(date='20220503', price='30.15'),\n",
       " stock(date='20220504', price='26.23'),\n",
       " stock(date='20220505', price='29.34')]"
      ]
     },
     "execution_count": 11,
     "metadata": {},
     "output_type": "execute_result"
    }
   ],
   "source": [
    "from collections import namedtuple\n",
    "stock_namedtuple = namedtuple('stock', ('date', 'price'))\n",
    "stock_namedtuple_list = [stock_namedtuple(date, price) for date, price in zip(date_array, price_array)]\n",
    "stock_namedtuple_list"
   ]
  },
  {
   "cell_type": "markdown",
   "metadata": {},
   "source": [
    "字典推导式"
   ]
  },
  {
   "cell_type": "code",
   "execution_count": 13,
   "metadata": {},
   "outputs": [
    {
     "data": {
      "text/plain": [
       "{'20220501': '30.14',\n",
       " '20220502': '29.14',\n",
       " '20220503': '30.15',\n",
       " '20220504': '26.23',\n",
       " '20220505': '29.34'}"
      ]
     },
     "execution_count": 13,
     "metadata": {},
     "output_type": "execute_result"
    }
   ],
   "source": [
    "stock_dict = {date: price for date, price in zip(date_array, price_array)}\n",
    "stock_dict"
   ]
  },
  {
   "cell_type": "markdown",
   "metadata": {},
   "source": [
    "有序字典"
   ]
  },
  {
   "cell_type": "code",
   "execution_count": 14,
   "metadata": {},
   "outputs": [
    {
     "data": {
      "text/plain": [
       "OrderedDict([('20220501', '30.14'),\n",
       "             ('20220502', '29.14'),\n",
       "             ('20220503', '30.15'),\n",
       "             ('20220504', '26.23'),\n",
       "             ('20220505', '29.34')])"
      ]
     },
     "execution_count": 14,
     "metadata": {},
     "output_type": "execute_result"
    }
   ],
   "source": [
    "from collections import OrderedDict\n",
    "stock_dict = OrderedDict((date, price) for date, price in zip(date_array, price_array))\n",
    "stock_dict"
   ]
  },
  {
   "cell_type": "markdown",
   "metadata": {},
   "source": [
    "# 2.2 函数"
   ]
  },
  {
   "cell_type": "code",
   "execution_count": 15,
   "metadata": {},
   "outputs": [
    {
     "data": {
      "text/plain": [
       "'20220501'"
      ]
     },
     "execution_count": 15,
     "metadata": {},
     "output_type": "execute_result"
    }
   ],
   "source": [
    "min(stock_dict)"
   ]
  },
  {
   "cell_type": "code",
   "execution_count": 16,
   "metadata": {},
   "outputs": [
    {
     "data": {
      "text/plain": [
       "('26.23', '20220504')"
      ]
     },
     "execution_count": 16,
     "metadata": {},
     "output_type": "execute_result"
    }
   ],
   "source": [
    "min(zip(stock_dict.values(), stock_dict.keys()))"
   ]
  },
  {
   "cell_type": "code",
   "execution_count": 17,
   "metadata": {},
   "outputs": [
    {
     "data": {
      "text/plain": [
       "('30.14', '20220501')"
      ]
     },
     "execution_count": 17,
     "metadata": {},
     "output_type": "execute_result"
    }
   ],
   "source": [
    "def find_second_max(dict_array):\n",
    "    stock_prices_sorted = sorted(zip(dict_array.values(), dict_array.keys()))\n",
    "    return stock_prices_sorted[-2]\n",
    "find_second_max(stock_dict)"
   ]
  },
  {
   "cell_type": "code",
   "execution_count": 20,
   "metadata": {},
   "outputs": [
    {
     "data": {
      "text/plain": [
       "('30.14', '20220501')"
      ]
     },
     "execution_count": 20,
     "metadata": {},
     "output_type": "execute_result"
    }
   ],
   "source": [
    "find_second_max_lambda = lambda dict_array: sorted(zip(dict_array.values(), dict_array.keys()))[-2]\n",
    "find_second_max_lambda(stock_dict)"
   ]
  },
  {
   "cell_type": "markdown",
   "metadata": {},
   "source": [
    "## 2.2.3 高阶函数\n",
    "\n",
    "map() filter() reduce()"
   ]
  },
  {
   "cell_type": "code",
   "execution_count": 21,
   "metadata": {},
   "outputs": [
    {
     "name": "stdout",
     "output_type": "stream",
     "text": [
      "[30.14, 29.14, 30.15, 26.23, 29.34]\n"
     ]
    }
   ],
   "source": [
    "price_float_array = [float(price_str) for price_str in stock_dict.values()]\n",
    "print(price_float_array)"
   ]
  },
  {
   "cell_type": "code",
   "execution_count": 24,
   "metadata": {},
   "outputs": [
    {
     "data": {
      "text/plain": [
       "[(30.14, 29.14), (29.14, 30.15), (30.15, 26.23), (26.23, 29.34)]"
      ]
     },
     "execution_count": 24,
     "metadata": {},
     "output_type": "execute_result"
    }
   ],
   "source": [
    "pp_array = [(price1, price2) for price1, price2 in zip(price_float_array[:-1], price_float_array[1:])]\n",
    "pp_array"
   ]
  },
  {
   "cell_type": "code",
   "execution_count": 41,
   "metadata": {},
   "outputs": [
    {
     "data": {
      "text/plain": [
       "[0, -0.033, 0.035, -0.13, 0.119]"
      ]
     },
     "execution_count": 41,
     "metadata": {},
     "output_type": "execute_result"
    }
   ],
   "source": [
    "# stock_change = map(lambad price1,price2: price2 - price1, pp_array)\n",
    "# stock_change\n",
    "\n",
    "# stock_change = reduce(lambda a,b: round((b-a)/a, 3), pp_array)\n",
    "# stock_change\n",
    "\n",
    "from functools import reduce\n",
    "change_array = map(\n",
    "    lambda pp: reduce(lambda a,b: round((b-a)/a, 3), pp)\n",
    "    , pp_array)\n",
    "change_array = list(stock_change)\n",
    "# change_array.insert(0,0)\n",
    "change_array"
   ]
  },
  {
   "cell_type": "markdown",
   "metadata": {},
   "source": [
    "python3之后map返回不是list 而是map需要转为list, reduce 在python3之后需要通过functools中导入"
   ]
  },
  {
   "cell_type": "code",
   "execution_count": 42,
   "metadata": {},
   "outputs": [
    {
     "data": {
      "text/plain": [
       "OrderedDict([('20220501', stock(date='20220501', price='30.14', change=0)),\n",
       "             ('20220502',\n",
       "              stock(date='20220502', price='29.14', change=-0.033)),\n",
       "             ('20220503', stock(date='20220503', price='30.15', change=0.035)),\n",
       "             ('20220504', stock(date='20220504', price='26.23', change=-0.13)),\n",
       "             ('20220505',\n",
       "              stock(date='20220505', price='29.34', change=0.119))])"
      ]
     },
     "execution_count": 42,
     "metadata": {},
     "output_type": "execute_result"
    }
   ],
   "source": [
    "stock_namedtuple = namedtuple('stock',('date', 'price', 'change'))\n",
    "stock_dict = OrderedDict((date, stock_namedtuple(date, price, change)) for date , price, change in zip(date_array, price_array, change_array))\n",
    "stock_dict"
   ]
  },
  {
   "cell_type": "code",
   "execution_count": 47,
   "metadata": {},
   "outputs": [
    {
     "data": {
      "text/plain": [
       "[stock(date='20220503', price='30.15', change=0.035),\n",
       " stock(date='20220505', price='29.34', change=0.119)]"
      ]
     },
     "execution_count": 47,
     "metadata": {},
     "output_type": "execute_result"
    }
   ],
   "source": [
    "up_days = list(filter(lambda day : day.change > 0, stock_dict.values()))\n",
    "up_days"
   ]
  },
  {
   "cell_type": "code",
   "execution_count": null,
   "metadata": {
    "collapsed": true
   },
   "outputs": [],
   "source": []
  }
 ],
 "metadata": {
  "kernelspec": {
   "display_name": "Python 3",
   "language": "python",
   "name": "python3"
  },
  "language_info": {
   "codemirror_mode": {
    "name": "ipython",
    "version": 3
   },
   "file_extension": ".py",
   "mimetype": "text/x-python",
   "name": "python",
   "nbconvert_exporter": "python",
   "pygments_lexer": "ipython3",
   "version": "3.6.1"
  }
 },
 "nbformat": 4,
 "nbformat_minor": 2
}
