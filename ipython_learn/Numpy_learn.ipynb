{
 "cells": [
  {
   "cell_type": "code",
   "execution_count": null,
   "outputs": [],
   "source": [
    "from __future__ import print_function\n",
    "import os\n",
    "import sys\n",
    "sys.path.insert(0, os.path.abspath('../'))\n",
    "import abupy\n",
    "abupy.env.enable_example_env_ipython()\n",
    "\n",
    "import seaborn as sns\n",
    "import matplotlib.pyplot as plt\n",
    "%matplotlib inline\n",
    "sns.set_context(rc={'figure.figsiez':(14,7)})\n",
    "figzise_me = figsize = (14,7)\n",
    "\n"
   ],
   "metadata": {
    "collapsed": false,
    "pycharm": {
     "name": "#%%\n"
    }
   }
  },
  {
   "cell_type": "code",
   "execution_count": null,
   "outputs": [],
   "source": [
    "print(sys.version)"
   ],
   "metadata": {
    "collapsed": false,
    "pycharm": {
     "name": "#%%\n"
    }
   }
  },
  {
   "cell_type": "markdown",
   "source": [
    "## 量化工具--numpy学习\n",
    "\n",
    "### 3.1.1 并行化思想"
   ],
   "metadata": {
    "collapsed": false
   }
  },
  {
   "cell_type": "code",
   "execution_count": null,
   "outputs": [],
   "source": [
    "import numpy as np\n"
   ],
   "metadata": {
    "collapsed": false,
    "pycharm": {
     "name": "#%%\n"
    }
   }
  },
  {
   "cell_type": "code",
   "execution_count": null,
   "outputs": [],
   "source": [
    "normal_list = range(10000)\n",
    "%timeit [i**2 for i in normal_list]"
   ],
   "metadata": {
    "collapsed": false,
    "pycharm": {
     "name": "#%%\n"
    }
   }
  },
  {
   "cell_type": "code",
   "execution_count": null,
   "outputs": [],
   "source": [
    "np_list = np.arange(10000)\n",
    "%timeit np_list ** 2"
   ],
   "metadata": {
    "collapsed": false,
    "pycharm": {
     "name": "#%%\n"
    }
   }
  },
  {
   "cell_type": "code",
   "execution_count": null,
   "outputs": [],
   "source": [
    "np_list = np.ones(5) * 3\n",
    "print(np_list)\n",
    "normal_list = [1, 1,1,1,1] * 3\n",
    "normal_list, len(normal_list)"
   ],
   "metadata": {
    "collapsed": false,
    "pycharm": {
     "name": "#%%\n"
    }
   }
  },
  {
   "cell_type": "markdown",
   "source": [
    "### 3.1.2 初始化操作"
   ],
   "metadata": {
    "collapsed": false
   }
  },
  {
   "cell_type": "code",
   "execution_count": null,
   "outputs": [],
   "source": [
    "np.zeros(13 * 10)\n",
    "np.zeros((3,2))\n",
    "np.ones((3,2))\n",
    "np.empty((2,3,3))\n",
    "np.ones_like(np_list)\n",
    "np.zeros_like(np_list)\n",
    "np.eye(3)"
   ],
   "metadata": {
    "collapsed": false,
    "pycharm": {
     "name": "#%%\n"
    }
   }
  },
  {
   "cell_type": "code",
   "execution_count": null,
   "outputs": [],
   "source": [
    "data = [[1,2,3,4], [5,6,7,8]]\n",
    "arr_np = np.array(data)\n",
    "arr_np\n"
   ],
   "metadata": {
    "collapsed": false,
    "pycharm": {
     "name": "#%%\n"
    }
   }
  },
  {
   "cell_type": "code",
   "execution_count": null,
   "outputs": [],
   "source": [
    "np.linspace(0,1,10)"
   ],
   "metadata": {
    "collapsed": false,
    "pycharm": {
     "name": "#%%\n"
    }
   }
  },
  {
   "cell_type": "code",
   "execution_count": null,
   "outputs": [],
   "source": [
    "stock_cnt = 200\n",
    "view_days = 504\n",
    "stock_day_change = np.random.standard_normal((stock_cnt, view_days))\n",
    "stock_day_change\n",
    "stock_day_change = np.load('../gen/stock_day_change.npy')\n",
    "print(stock_day_change)\n",
    "print(stock_day_change.shape)\n",
    "print(stock_day_change[0:1, :5])"
   ],
   "metadata": {
    "collapsed": false,
    "pycharm": {
     "name": "#%%\n"
    }
   }
  },
  {
   "cell_type": "markdown",
   "source": [
    "### 3.1.3 索引的切片"
   ],
   "metadata": {
    "collapsed": false
   }
  },
  {
   "cell_type": "code",
   "execution_count": null,
   "outputs": [],
   "source": [
    "stock_day_change[0:2, 0:5]\n"
   ],
   "metadata": {
    "collapsed": false,
    "pycharm": {
     "name": "#%%\n"
    }
   }
  },
  {
   "cell_type": "code",
   "execution_count": null,
   "outputs": [],
   "source": [
    "stock_day_change[-2:, -5:]"
   ],
   "metadata": {
    "collapsed": false,
    "pycharm": {
     "name": "#%%\n"
    }
   }
  },
  {
   "cell_type": "code",
   "execution_count": null,
   "outputs": [],
   "source": [
    "tmp =  stock_day_change[0:2, 0:5].copy()\n",
    "stock_day_change[0:2, 0:5] = stock_day_change[-2:, -5:]\n",
    "stock_day_change[-2:, -5:] = tmp\n",
    "stock_day_change[0:2, 0:5], stock_day_change[-2:, -5:]"
   ],
   "metadata": {
    "collapsed": false,
    "pycharm": {
     "name": "#%%\n"
    }
   }
  },
  {
   "cell_type": "markdown",
   "source": [
    "### 3.1.4: 数据转换与规整"
   ],
   "metadata": {
    "collapsed": false
   }
  },
  {
   "cell_type": "code",
   "execution_count": null,
   "outputs": [],
   "source": [
    "print(stock_day_change[0:2, 0:5])\n",
    "stock_day_change[0:2, 0:5].astype(int)"
   ],
   "metadata": {
    "collapsed": false,
    "pycharm": {
     "name": "#%%\n"
    }
   }
  },
  {
   "cell_type": "code",
   "execution_count": null,
   "outputs": [],
   "source": [
    "# 2 代表保留的小数\n",
    "np.around(stock_day_change[0:2, 0:5], 2)"
   ],
   "metadata": {
    "collapsed": false,
    "pycharm": {
     "name": "#%%\n"
    }
   }
  },
  {
   "cell_type": "code",
   "execution_count": null,
   "outputs": [],
   "source": [
    "# 使用copy不修改原始数据\n",
    "tmp_test = stock_day_change[0:2, 0:5].copy()\n",
    "tmp_test[0][0] = np.nan\n",
    "print(tmp_test)\n",
    "print(stock_day_change[0:2, 0:5])\n"
   ],
   "metadata": {
    "collapsed": false,
    "pycharm": {
     "name": "#%%\n"
    }
   }
  },
  {
   "cell_type": "code",
   "execution_count": null,
   "outputs": [],
   "source": [
    "# 将nan 变为 数据0\n",
    "tmp_test = np.nan_to_num(tmp_test)\n",
    "tmp_test"
   ],
   "metadata": {
    "collapsed": false,
    "pycharm": {
     "name": "#%%\n"
    }
   }
  },
  {
   "cell_type": "markdown",
   "source": [
    "### 3.1.5： 逻辑条件进行数据筛选"
   ],
   "metadata": {
    "collapsed": false
   }
  },
  {
   "cell_type": "code",
   "execution_count": null,
   "outputs": [],
   "source": [
    "mask = stock_day_change[0:2, 0:5] > 0.5\n",
    "print(mask)"
   ],
   "metadata": {
    "collapsed": false,
    "pycharm": {
     "name": "#%%\n"
    }
   }
  },
  {
   "cell_type": "code",
   "execution_count": null,
   "outputs": [],
   "source": [
    "# 使用mask来筛选数据\n",
    "tmp_test = stock_day_change[0:2, 0:5].copy()\n",
    "tmp_test[mask]"
   ],
   "metadata": {
    "collapsed": false,
    "pycharm": {
     "name": "#%%\n"
    }
   }
  },
  {
   "cell_type": "code",
   "execution_count": null,
   "outputs": [],
   "source": [
    "# 数据嵌套筛选，这是上面的合并\n",
    "tmp_test[tmp_test > 0.5] = 1\n",
    "tmp_test"
   ],
   "metadata": {
    "collapsed": false,
    "pycharm": {
     "name": "#%%\n"
    }
   }
  },
  {
   "cell_type": "code",
   "execution_count": null,
   "outputs": [],
   "source": [
    "tmp_test = stock_day_change[-2:, -5:]\n",
    "print(tmp_test)\n",
    "tmp_test[(tmp_test > 1) | (tmp_test < -1)]"
   ],
   "metadata": {
    "collapsed": false,
    "pycharm": {
     "name": "#%%\n"
    }
   }
  },
  {
   "cell_type": "markdown",
   "source": [
    "### 3.1.6 通用序列函数"
   ],
   "metadata": {
    "collapsed": false
   }
  },
  {
   "cell_type": "code",
   "execution_count": null,
   "outputs": [],
   "source": [
    "# 本例实际判断stock_day_change[0:2, 0:5]中是否全是上涨的\n",
    "np.all(stock_day_change[0:2, 0:5] > 0)"
   ],
   "metadata": {
    "collapsed": false,
    "pycharm": {
     "name": "#%%\n"
    }
   }
  },
  {
   "cell_type": "code",
   "execution_count": null,
   "outputs": [],
   "source": [
    "# 本例实际判断stock_day_change[0:2, 0:5]中是至少有一个是上涨的\n",
    "np.any(stock_day_change[0:2, 0:5] > 0)"
   ],
   "metadata": {
    "collapsed": false,
    "pycharm": {
     "name": "#%%\n"
    }
   }
  },
  {
   "cell_type": "code",
   "execution_count": null,
   "outputs": [],
   "source": [
    "# 对应位置两个对比留下最大的\n",
    "print('stock_day_change[0:2, 0:5] {}'.format(stock_day_change[0:2, 0:5]))\n",
    "print(('stock_day_change[-2:, -5:] {}'.format(stock_day_change[-2:, -5:])))\n",
    "np.maximum(stock_day_change[0:2, 0:5], stock_day_change[-2:, -5:])"
   ],
   "metadata": {
    "collapsed": false,
    "pycharm": {
     "name": "#%%\n"
    }
   }
  },
  {
   "cell_type": "code",
   "execution_count": null,
   "outputs": [],
   "source": [
    "change_int = stock_day_change[0:2, 0:5].astype(int)\n",
    "print(change_int)\n",
    "np.unique(change_int)"
   ],
   "metadata": {
    "collapsed": false,
    "pycharm": {
     "name": "#%%\n"
    }
   }
  },
  {
   "cell_type": "code",
   "execution_count": null,
   "outputs": [],
   "source": [
    "# -0.2471  = -0.0305 - 0.2165\n",
    "print('stock_day_change[0:2, 0:5] {}'.format(stock_day_change[0:2, 0:5]))\n",
    "np.diff(stock_day_change[0:2, 0:5])"
   ],
   "metadata": {
    "collapsed": false,
    "pycharm": {
     "name": "#%%\n"
    }
   }
  },
  {
   "cell_type": "code",
   "execution_count": null,
   "outputs": [],
   "source": [
    "# -0.9638  - 0.2165 = -1.1803\n",
    "np.diff(stock_day_change[0:2, 0:5], axis=0)\n"
   ],
   "metadata": {
    "collapsed": false,
    "pycharm": {
     "name": "#%%\n"
    }
   }
  },
  {
   "cell_type": "code",
   "execution_count": null,
   "outputs": [],
   "source": [
    "# 位置 大于 0.5 改为 1，小于0.5 为0\n",
    "print(('stock_day_change[-2:, -5:] {}'.format(stock_day_change[-2:, -5:])))\n",
    "tmp_test = stock_day_change[-2:, -5:]\n",
    "print(np.where(tmp_test> 0.5, 1, 0))\n",
    "print(np.where(tmp_test > 0.5 , 1, tmp_test))"
   ],
   "metadata": {
    "collapsed": false,
    "pycharm": {
     "name": "#%%\n"
    }
   }
  },
  {
   "cell_type": "code",
   "execution_count": null,
   "outputs": [],
   "source": [
    "np.where(np.logical_and(tmp_test > 0.5, tmp_test < 1), 1, 0)"
   ],
   "metadata": {
    "collapsed": false,
    "pycharm": {
     "name": "#%%\n"
    }
   }
  },
  {
   "cell_type": "code",
   "execution_count": null,
   "outputs": [],
   "source": [
    "np_result = np.where(np.logical_or(tmp_test > 0.5 , tmp_test < -0.5), 1, 0)\n",
    "# tmp_test[np_result]"
   ],
   "metadata": {
    "collapsed": false,
    "pycharm": {
     "name": "#%%\n"
    }
   }
  },
  {
   "cell_type": "markdown",
   "source": [
    "### 3.1.7 : 数据本地化"
   ],
   "metadata": {
    "collapsed": false
   }
  },
  {
   "cell_type": "code",
   "execution_count": null,
   "outputs": [],
   "source": [
    "stock_day_change = np.load('../gen/stock_day_change.npy')\n",
    "np.save('../gen/stock_day_change.npy', stock_day_change)\n",
    "stock_day_change.shape"
   ],
   "metadata": {
    "collapsed": false,
    "pycharm": {
     "name": "#%%\n"
    }
   }
  },
  {
   "cell_type": "markdown",
   "source": [
    "## 3.2: 统计概念与函数使用\n",
    "\n",
    "### 3.2.1 统计基础函数使用"
   ],
   "metadata": {
    "collapsed": false
   }
  },
  {
   "cell_type": "code",
   "execution_count": null,
   "outputs": [],
   "source": [
    "stock_day_change_four = stock_day_change[:4, :4]\n",
    "stock_day_change_four"
   ],
   "metadata": {
    "collapsed": false,
    "pycharm": {
     "name": "#%%\n"
    }
   }
  },
  {
   "cell_type": "code",
   "execution_count": null,
   "outputs": [],
   "source": [
    "print('最大涨幅 {}'.format(np.max(stock_day_change_four , axis=1)))"
   ],
   "metadata": {
    "collapsed": false,
    "pycharm": {
     "name": "#%%\n"
    }
   }
  },
  {
   "cell_type": "code",
   "execution_count": null,
   "outputs": [],
   "source": [
    "print('最大跌幅 {}'.format(np.min(stock_day_change_four, axis=1)))\n",
    "print('振幅幅度 {}'.format(np.std(stock_day_change_four, axis=1)))\n",
    "print('平均涨跌 {}'.format(np.mean(stock_day_change_four, axis=1)))"
   ],
   "metadata": {
    "collapsed": false,
    "pycharm": {
     "name": "#%%\n"
    }
   }
  },
  {
   "cell_type": "code",
   "execution_count": null,
   "outputs": [],
   "source": [
    "print('最大涨幅 {}'.format(np.max(stock_day_change_four , axis=0)))"
   ],
   "metadata": {
    "collapsed": false,
    "pycharm": {
     "name": "#%%\n"
    }
   }
  },
  {
   "cell_type": "code",
   "execution_count": null,
   "outputs": [],
   "source": [
    "print('最大涨幅股票 {}'.format(np.argmax(stock_day_change_four , axis=0)))"
   ],
   "metadata": {
    "collapsed": false,
    "pycharm": {
     "name": "#%%\n"
    }
   }
  },
  {
   "cell_type": "code",
   "execution_count": null,
   "outputs": [],
   "source": [
    "print('最大跌幅股票 {}'.format(np.argmin(stock_day_change_four , axis=0)))"
   ],
   "metadata": {
    "collapsed": false,
    "pycharm": {
     "name": "#%%\n"
    }
   }
  },
  {
   "cell_type": "markdown",
   "source": [
    "### 3.2.2 统计基础概念"
   ],
   "metadata": {
    "collapsed": false
   }
  },
  {
   "cell_type": "code",
   "execution_count": null,
   "outputs": [],
   "source": [
    "a_investor = np.random.normal(loc=100, scale=50, size=(100,1))\n",
    "b_investor = np.random.normal(loc=100, scale=20, size=(100,1))"
   ],
   "metadata": {
    "collapsed": false,
    "pycharm": {
     "name": "#%%\n"
    }
   }
  },
  {
   "cell_type": "code",
   "execution_count": null,
   "outputs": [],
   "source": [
    "print('a交易者期望{0:.2f}元， 标准差{1:.2f}, 方差{2:.2f}'.format(a_investor.mean(), a_investor.std(), a_investor.var() ))\n",
    "print('b交易者期望{0:.2f}元， 标准差{1:.2f}, 方差{2:.2f}'.format(b_investor.mean(), b_investor.std(), b_investor.var() ))"
   ],
   "metadata": {
    "collapsed": false,
    "pycharm": {
     "name": "#%%\n"
    }
   }
  },
  {
   "cell_type": "code",
   "execution_count": null,
   "outputs": [],
   "source": [
    "a_mean = a_investor.mean()\n",
    "a_std = a_investor.std()\n",
    "plt.plot(a_investor)\n",
    "plt.axhline(a_mean + a_std, color='r')\n",
    "plt.axhline(a_mean, color='y')\n",
    "plt.axhline(a_mean -a_std, color='g')"
   ],
   "metadata": {
    "collapsed": false,
    "pycharm": {
     "name": "#%%\n"
    }
   }
  },
  {
   "cell_type": "markdown",
   "source": [
    "## 3.3 正态分布\n",
    "\n",
    "### 3.3.1 正态分布基础概念"
   ],
   "metadata": {
    "collapsed": false
   }
  },
  {
   "cell_type": "code",
   "execution_count": null,
   "outputs": [],
   "source": [
    "import scipy.stats as scs\n",
    "\n",
    "stock_mean = stock_day_change[0].mean()\n",
    "stock_std = stock_day_change[0].std()\n",
    "print('股票0 mean均值期望：{:.3f}'.format(stock_mean))\n",
    "print('股票0 std振幅标准差：{:.3f}'.format(stock_std))\n",
    "\n",
    "# 绘制股票0的直方图\n",
    "plt.hist(stock_day_change[0], bins=50, normed=True)\n",
    "# linspace 从股票0 最小值--》 最大值生成数据\n",
    "fit_linespace = np.linspace(stock_day_change[0].min(), stock_day_change[0].max())\n",
    "\n",
    "# 概率密度函数(PDF，probability density function)\n",
    "# 由均值，方差，来描述曲线，使用scipy.stats.norm.pdf生成拟合曲线\n",
    "pdf = scs.norm(stock_mean, stock_std).pdf(fit_linespace)\n",
    "plt.plot(fit_linespace, pdf, lw=2, c='r')"
   ],
   "metadata": {
    "collapsed": false,
    "pycharm": {
     "name": "#%%\n"
    }
   }
  },
  {
   "cell_type": "code",
   "execution_count": null,
   "outputs": [],
   "source": [
    "pdf"
   ],
   "metadata": {
    "collapsed": false,
    "pycharm": {
     "name": "#%%\n"
    }
   }
  },
  {
   "cell_type": "markdown",
   "source": [
    "### 3.3.2 实例1 ： 正态分布买入策略"
   ],
   "metadata": {
    "collapsed": false
   }
  },
  {
   "cell_type": "code",
   "execution_count": null,
   "outputs": [],
   "source": [
    "keep_days = 50\n",
    "\n",
    "stock_day_change_test = stock_day_change[:stock_cnt, 0:view_days -keep_days]\n",
    "\n",
    "print(np.sort(np.sum(stock_day_change_test, axis=1))[:3])\n",
    "\n",
    "stock_lower_array = np.argsort(np.sum(stock_day_change_test, axis=1))[:3]\n",
    "# 输出符合买入条件的股票序号\n",
    "stock_lower_array\n"
   ],
   "metadata": {
    "collapsed": false,
    "pycharm": {
     "name": "#%%\n"
    }
   }
  },
  {
   "cell_type": "code",
   "execution_count": null,
   "outputs": [],
   "source": [
    "def show_buy_lower(stock_ind):\n",
    "    # 设置一个一行两列的可视化图标\n",
    "    _, axs = plt.subplots(nrows=1, ncols=2, figsize=(16, 5))\n",
    "    # 绘制前454天股票走势图，np.sumsum() :序列连续求和\n",
    "    axs[0].plot(np.arange(0, view_days-keep_days), stock_day_change_test[stock_ind].cumsum())\n",
    "    # 从第454天到504天的股票走势\n",
    "    cs_buy = stock_day_change[stock_ind][view_days - keep_days:view_days].cumsum()\n",
    "    \n",
    "    axs[1].plot(np.arange(view_days -keep_days, view_days), cs_buy)\n",
    "    \n",
    "    return cs_buy[-1]"
   ],
   "metadata": {
    "collapsed": false,
    "pycharm": {
     "name": "#%%\n"
    }
   }
  },
  {
   "cell_type": "code",
   "execution_count": null,
   "outputs": [],
   "source": [
    "print(np.arange(1,100))"
   ],
   "metadata": {
    "collapsed": false,
    "pycharm": {
     "name": "#%%\n"
    }
   }
  },
  {
   "cell_type": "code",
   "execution_count": null,
   "outputs": [],
   "source": [
    "profit = 0\n",
    "for stock_ind in stock_lower_array:\n",
    "    profit += show_buy_lower(stock_ind)\n",
    "    \n",
    "# str.format 支持{:.2f}形式保留两位小数\n",
    "print('买入第 {} 支股票，从第454个交易日开始持有盈亏:{:.2f}%'.format(\n",
    "    stock_lower_array, profit))"
   ],
   "metadata": {
    "collapsed": false,
    "pycharm": {
     "name": "#%%\n"
    }
   }
  },
  {
   "cell_type": "markdown",
   "source": [
    "## 3.4 伯努利分布\n",
    "\n",
    "### 3.4.1 伯努利分布\n",
    "\n",
    "### 3.4.2 如何在交易中获得优势"
   ],
   "metadata": {
    "collapsed": false
   }
  },
  {
   "cell_type": "code",
   "execution_count": null,
   "outputs": [],
   "source": [
    "# 设置100个赌徒\n",
    "gamblers = 100\n",
    "\n",
    "def casino(win_rate, win_once = 1, loss_once=1, commission=0.01):\n",
    "    my_money = 1000000\n",
    "    play_cnt = 10000000\n",
    "    commission = commission\n",
    "    for _ in np.arange(0, play_cnt):\n",
    "        # 使用伯努利分布根据win_rate来获取输赢\n",
    "        w = np.random.binomial(1, win_rate)\n",
    "        if w:\n",
    "            my_money += win_once\n",
    "        else:\n",
    "            my_money -= loss_once\n",
    "        \n",
    "        my_money -= commission\n",
    "        \n",
    "        if my_money <= 0:\n",
    "            break\n",
    "    return my_money"
   ],
   "metadata": {
    "collapsed": false,
    "pycharm": {
     "name": "#%%\n"
    }
   }
  },
  {
   "cell_type": "code",
   "execution_count": null,
   "outputs": [],
   "source": [
    "# 伯努利计算在概率是0.5的情况下，输赢的情况\n",
    "for _ in np.arange(0,10):\n",
    "    print(np.random.binomial(1, 0.5))"
   ],
   "metadata": {
    "collapsed": false,
    "pycharm": {
     "name": "#%%\n"
    }
   }
  },
  {
   "cell_type": "code",
   "execution_count": null,
   "outputs": [],
   "source": [
    "# 使用numba来进行加速\n",
    "import numba as nb\n",
    "casino = nb.jit(casino)"
   ],
   "metadata": {
    "collapsed": false,
    "pycharm": {
     "name": "#%%\n"
    }
   }
  },
  {
   "cell_type": "code",
   "execution_count": null,
   "outputs": [],
   "source": [
    "heaven_moneys = [casino(0.5, commission = 0) for _ in np.arange(0, gamblers)]"
   ],
   "metadata": {
    "collapsed": false,
    "pycharm": {
     "name": "#%%\n"
    }
   }
  },
  {
   "cell_type": "code",
   "execution_count": null,
   "outputs": [],
   "source": [
    "cheat_moneys = [casino(0.4, commission = 0) for _ in np.arange(0, gamblers)]"
   ],
   "metadata": {
    "collapsed": false,
    "pycharm": {
     "name": "#%%\n"
    }
   }
  },
  {
   "cell_type": "code",
   "execution_count": null,
   "outputs": [],
   "source": [
    "commission_moneys = [casino(0.5, commission = 0.01) for _ in np.arange(0, gamblers)]"
   ],
   "metadata": {
    "collapsed": false,
    "pycharm": {
     "name": "#%%\n"
    }
   }
  },
  {
   "cell_type": "code",
   "execution_count": null,
   "outputs": [],
   "source": [
    "_ = plt.hist(heaven_moneys, bins=30)"
   ],
   "metadata": {
    "collapsed": false,
    "pycharm": {
     "name": "#%%\n"
    }
   }
  },
  {
   "cell_type": "code",
   "execution_count": null,
   "outputs": [],
   "source": [
    "_ = plt.hist(cheat_moneys, bins=30)"
   ],
   "metadata": {
    "collapsed": false,
    "pycharm": {
     "name": "#%%\n"
    }
   }
  },
  {
   "cell_type": "code",
   "execution_count": null,
   "outputs": [],
   "source": [
    "_ = plt.hist(commission_moneys, bins=30)"
   ],
   "metadata": {
    "collapsed": false,
    "pycharm": {
     "name": "#%%\n"
    }
   }
  },
  {
   "cell_type": "code",
   "execution_count": null,
   "outputs": [],
   "source": [
    "moneys = [casino(0.45, commission=0.01, win_once=1.02, loss_once=0.98) for _ in np.arange(0, gamblers)]\n",
    "_ = plt.hist(moneys, bins=30)"
   ],
   "metadata": {
    "collapsed": false,
    "pycharm": {
     "name": "#%%\n"
    }
   }
  },
  {
   "cell_type": "markdown",
   "source": [
    "### 列表推导式练习"
   ],
   "metadata": {
    "collapsed": false
   }
  },
  {
   "cell_type": "code",
   "execution_count": null,
   "outputs": [],
   "source": [
    "test_array = [i ** 2 for i in (np.arange(0,10))]\n",
    "test_array"
   ],
   "metadata": {
    "collapsed": false,
    "pycharm": {
     "name": "#%%\n"
    }
   }
  }
 ],
 "metadata": {
  "kernelspec": {
   "display_name": "Python 3",
   "language": "python",
   "name": "python3"
  },
  "language_info": {
   "codemirror_mode": {
    "name": "ipython",
    "version": 3
   },
   "file_extension": ".py",
   "mimetype": "text/x-python",
   "name": "python",
   "nbconvert_exporter": "python",
   "pygments_lexer": "ipython3",
   "version": "3.6.1"
  }
 },
 "nbformat": 4,
 "nbformat_minor": 1
}